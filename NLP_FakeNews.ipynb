{
 "cells": [
  {
   "cell_type": "markdown",
   "metadata": {},
   "source": [
    "# Fake News Detection \n",
    "Building a classifier differentiating fake and real news based on pre-defined labels"
   ]
  },
  {
   "cell_type": "markdown",
   "metadata": {},
   "source": [
    "### Major Steps\n",
    "1. Libraries\n",
    "2. Loading and Cleaning datasets\n",
    "3. Preparing dataset (BOW, TF-IDF)\n",
    "4. SVM\n",
    "5. Naive Bayes\n",
    "6. Logistic Regression\n",
    "7. PassiveAgressive Classifier\n",
    "8. Summary"
   ]
  },
  {
   "cell_type": "markdown",
   "metadata": {},
   "source": [
    "## 1. Import libraries"
   ]
  },
  {
   "cell_type": "code",
   "execution_count": 12,
   "metadata": {
    "collapsed": true
   },
   "outputs": [],
   "source": [
    "import pandas as pd\n",
    "import numpy as np\n",
    "import nltk\n",
    "import sklearn\n",
    "from sklearn.model_selection import train_test_split\n",
    "from sklearn.model_selection import cross_val_score\n",
    "\n",
    "from sklearn.feature_extraction.text import CountVectorizer,  TfidfVectorizer\n",
    "from sklearn.linear_model import LogisticRegression\n",
    "from sklearn import metrics\n",
    "from sklearn.metrics import accuracy_score\n",
    "\n",
    "from sklearn.pipeline import Pipeline"
   ]
  },
  {
   "cell_type": "code",
   "execution_count": 13,
   "metadata": {
    "collapsed": true
   },
   "outputs": [],
   "source": [
    "import warnings\n",
    "warnings.filterwarnings('ignore')"
   ]
  },
  {
   "cell_type": "markdown",
   "metadata": {},
   "source": [
    "## 2. Load & Examine Datasets"
   ]
  },
  {
   "cell_type": "code",
   "execution_count": 14,
   "metadata": {
    "collapsed": true
   },
   "outputs": [],
   "source": [
    "df_train = pd.read_csv(\"/Users/taniaelachkar/Desktop/Natural Language Processing/Assignment 1/fake_or_real_news_training.csv\")\n",
    "\n",
    "df_test = pd.read_csv(\"/Users/taniaelachkar/Desktop/Natural Language Processing/Assignment 1/fake_or_real_news_test.csv\")"
   ]
  },
  {
   "cell_type": "code",
   "execution_count": 15,
   "metadata": {
    "scrolled": true
   },
   "outputs": [
    {
     "data": {
      "text/html": [
       "<div>\n",
       "<style>\n",
       "    .dataframe thead tr:only-child th {\n",
       "        text-align: right;\n",
       "    }\n",
       "\n",
       "    .dataframe thead th {\n",
       "        text-align: left;\n",
       "    }\n",
       "\n",
       "    .dataframe tbody tr th {\n",
       "        vertical-align: top;\n",
       "    }\n",
       "</style>\n",
       "<table border=\"1\" class=\"dataframe\">\n",
       "  <thead>\n",
       "    <tr style=\"text-align: right;\">\n",
       "      <th></th>\n",
       "      <th>ID</th>\n",
       "      <th>title</th>\n",
       "      <th>text</th>\n",
       "      <th>label</th>\n",
       "      <th>X1</th>\n",
       "      <th>X2</th>\n",
       "    </tr>\n",
       "  </thead>\n",
       "  <tbody>\n",
       "    <tr>\n",
       "      <th>0</th>\n",
       "      <td>8476</td>\n",
       "      <td>You Can Smell Hillary’s Fear</td>\n",
       "      <td>Daniel Greenfield, a Shillman Journalism Fello...</td>\n",
       "      <td>FAKE</td>\n",
       "      <td>NaN</td>\n",
       "      <td>NaN</td>\n",
       "    </tr>\n",
       "    <tr>\n",
       "      <th>1</th>\n",
       "      <td>10294</td>\n",
       "      <td>Watch The Exact Moment Paul Ryan Committed Pol...</td>\n",
       "      <td>Google Pinterest Digg Linkedin Reddit Stumbleu...</td>\n",
       "      <td>FAKE</td>\n",
       "      <td>NaN</td>\n",
       "      <td>NaN</td>\n",
       "    </tr>\n",
       "    <tr>\n",
       "      <th>2</th>\n",
       "      <td>3608</td>\n",
       "      <td>Kerry to go to Paris in gesture of sympathy</td>\n",
       "      <td>U.S. Secretary of State John F. Kerry said Mon...</td>\n",
       "      <td>REAL</td>\n",
       "      <td>NaN</td>\n",
       "      <td>NaN</td>\n",
       "    </tr>\n",
       "    <tr>\n",
       "      <th>3</th>\n",
       "      <td>10142</td>\n",
       "      <td>Bernie supporters on Twitter erupt in anger ag...</td>\n",
       "      <td>— Kaydee King (@KaydeeKing) November 9, 2016 T...</td>\n",
       "      <td>FAKE</td>\n",
       "      <td>NaN</td>\n",
       "      <td>NaN</td>\n",
       "    </tr>\n",
       "    <tr>\n",
       "      <th>4</th>\n",
       "      <td>875</td>\n",
       "      <td>The Battle of New York: Why This Primary Matters</td>\n",
       "      <td>It's primary day in New York and front-runners...</td>\n",
       "      <td>REAL</td>\n",
       "      <td>NaN</td>\n",
       "      <td>NaN</td>\n",
       "    </tr>\n",
       "    <tr>\n",
       "      <th>5</th>\n",
       "      <td>6903</td>\n",
       "      <td>Tehran, USA</td>\n",
       "      <td>\\nI’m not an immigrant, but my grandparents ...</td>\n",
       "      <td>FAKE</td>\n",
       "      <td>NaN</td>\n",
       "      <td>NaN</td>\n",
       "    </tr>\n",
       "    <tr>\n",
       "      <th>6</th>\n",
       "      <td>7341</td>\n",
       "      <td>Girl Horrified At What She Watches Boyfriend D...</td>\n",
       "      <td>Share This Baylee Luciani (left), Screenshot o...</td>\n",
       "      <td>FAKE</td>\n",
       "      <td>NaN</td>\n",
       "      <td>NaN</td>\n",
       "    </tr>\n",
       "    <tr>\n",
       "      <th>7</th>\n",
       "      <td>95</td>\n",
       "      <td>‘Britain’s Schindler’ Dies at 106</td>\n",
       "      <td>A Czech stockbroker who saved more than 650 Je...</td>\n",
       "      <td>REAL</td>\n",
       "      <td>NaN</td>\n",
       "      <td>NaN</td>\n",
       "    </tr>\n",
       "    <tr>\n",
       "      <th>8</th>\n",
       "      <td>4869</td>\n",
       "      <td>Fact check: Trump and Clinton at the 'commande...</td>\n",
       "      <td>Hillary Clinton and Donald Trump made some ina...</td>\n",
       "      <td>REAL</td>\n",
       "      <td>NaN</td>\n",
       "      <td>NaN</td>\n",
       "    </tr>\n",
       "    <tr>\n",
       "      <th>9</th>\n",
       "      <td>2909</td>\n",
       "      <td>Iran reportedly makes new push for uranium con...</td>\n",
       "      <td>Iranian negotiators reportedly have made a las...</td>\n",
       "      <td>REAL</td>\n",
       "      <td>NaN</td>\n",
       "      <td>NaN</td>\n",
       "    </tr>\n",
       "    <tr>\n",
       "      <th>10</th>\n",
       "      <td>1357</td>\n",
       "      <td>With all three Clintons in Iowa, a glimpse at ...</td>\n",
       "      <td>CEDAR RAPIDS, Iowa — “I had one of the most wo...</td>\n",
       "      <td>REAL</td>\n",
       "      <td>NaN</td>\n",
       "      <td>NaN</td>\n",
       "    </tr>\n",
       "    <tr>\n",
       "      <th>11</th>\n",
       "      <td>988</td>\n",
       "      <td>Donald Trump’s Shockingly Weak Delegate Game S...</td>\n",
       "      <td>Donald Trump’s organizational problems have go...</td>\n",
       "      <td>REAL</td>\n",
       "      <td>NaN</td>\n",
       "      <td>NaN</td>\n",
       "    </tr>\n",
       "    <tr>\n",
       "      <th>12</th>\n",
       "      <td>7041</td>\n",
       "      <td>Strong Solar Storm, Tech Risks Today | S0 News...</td>\n",
       "      <td>Click Here To Learn More About Alexandra's Per...</td>\n",
       "      <td>FAKE</td>\n",
       "      <td>NaN</td>\n",
       "      <td>NaN</td>\n",
       "    </tr>\n",
       "    <tr>\n",
       "      <th>13</th>\n",
       "      <td>7623</td>\n",
       "      <td>10 Ways America Is Preparing for World War 3</td>\n",
       "      <td>October 31, 2016 at 4:52 am \\nPretty factual e...</td>\n",
       "      <td>FAKE</td>\n",
       "      <td>NaN</td>\n",
       "      <td>NaN</td>\n",
       "    </tr>\n",
       "    <tr>\n",
       "      <th>14</th>\n",
       "      <td>1571</td>\n",
       "      <td>Trump takes on Cruz, but lightly</td>\n",
       "      <td>Killing Obama administration rules, dismantlin...</td>\n",
       "      <td>REAL</td>\n",
       "      <td>NaN</td>\n",
       "      <td>NaN</td>\n",
       "    </tr>\n",
       "    <tr>\n",
       "      <th>15</th>\n",
       "      <td>4739</td>\n",
       "      <td>How women lead differently</td>\n",
       "      <td>As more women move into high offices, they oft...</td>\n",
       "      <td>REAL</td>\n",
       "      <td>NaN</td>\n",
       "      <td>NaN</td>\n",
       "    </tr>\n",
       "    <tr>\n",
       "      <th>16</th>\n",
       "      <td>7737</td>\n",
       "      <td>Shocking! Michele Obama &amp; Hillary Caught Glamo...</td>\n",
       "      <td>Shocking! Michele Obama &amp; Hillary Caught Glamo...</td>\n",
       "      <td>FAKE</td>\n",
       "      <td>NaN</td>\n",
       "      <td>NaN</td>\n",
       "    </tr>\n",
       "    <tr>\n",
       "      <th>17</th>\n",
       "      <td>8716</td>\n",
       "      <td>Hillary Clinton in HUGE Trouble After America ...</td>\n",
       "      <td>0 \\nHillary Clinton has barely just lost the p...</td>\n",
       "      <td>FAKE</td>\n",
       "      <td>NaN</td>\n",
       "      <td>NaN</td>\n",
       "    </tr>\n",
       "    <tr>\n",
       "      <th>18</th>\n",
       "      <td>3304</td>\n",
       "      <td>What's in that Iran bill that Obama doesn't like?</td>\n",
       "      <td>Washington (CNN) For months, the White House a...</td>\n",
       "      <td>REAL</td>\n",
       "      <td>NaN</td>\n",
       "      <td>NaN</td>\n",
       "    </tr>\n",
       "    <tr>\n",
       "      <th>19</th>\n",
       "      <td>3078</td>\n",
       "      <td>The 1 chart that explains everything you need ...</td>\n",
       "      <td>While paging through Pew's best data visualiza...</td>\n",
       "      <td>REAL</td>\n",
       "      <td>NaN</td>\n",
       "      <td>NaN</td>\n",
       "    </tr>\n",
       "  </tbody>\n",
       "</table>\n",
       "</div>"
      ],
      "text/plain": [
       "       ID                                              title  \\\n",
       "0    8476                       You Can Smell Hillary’s Fear   \n",
       "1   10294  Watch The Exact Moment Paul Ryan Committed Pol...   \n",
       "2    3608        Kerry to go to Paris in gesture of sympathy   \n",
       "3   10142  Bernie supporters on Twitter erupt in anger ag...   \n",
       "4     875   The Battle of New York: Why This Primary Matters   \n",
       "5    6903                                        Tehran, USA   \n",
       "6    7341  Girl Horrified At What She Watches Boyfriend D...   \n",
       "7      95                  ‘Britain’s Schindler’ Dies at 106   \n",
       "8    4869  Fact check: Trump and Clinton at the 'commande...   \n",
       "9    2909  Iran reportedly makes new push for uranium con...   \n",
       "10   1357  With all three Clintons in Iowa, a glimpse at ...   \n",
       "11    988  Donald Trump’s Shockingly Weak Delegate Game S...   \n",
       "12   7041  Strong Solar Storm, Tech Risks Today | S0 News...   \n",
       "13   7623       10 Ways America Is Preparing for World War 3   \n",
       "14   1571                   Trump takes on Cruz, but lightly   \n",
       "15   4739                         How women lead differently   \n",
       "16   7737  Shocking! Michele Obama & Hillary Caught Glamo...   \n",
       "17   8716  Hillary Clinton in HUGE Trouble After America ...   \n",
       "18   3304  What's in that Iran bill that Obama doesn't like?   \n",
       "19   3078  The 1 chart that explains everything you need ...   \n",
       "\n",
       "                                                 text label   X1   X2  \n",
       "0   Daniel Greenfield, a Shillman Journalism Fello...  FAKE  NaN  NaN  \n",
       "1   Google Pinterest Digg Linkedin Reddit Stumbleu...  FAKE  NaN  NaN  \n",
       "2   U.S. Secretary of State John F. Kerry said Mon...  REAL  NaN  NaN  \n",
       "3   — Kaydee King (@KaydeeKing) November 9, 2016 T...  FAKE  NaN  NaN  \n",
       "4   It's primary day in New York and front-runners...  REAL  NaN  NaN  \n",
       "5     \\nI’m not an immigrant, but my grandparents ...  FAKE  NaN  NaN  \n",
       "6   Share This Baylee Luciani (left), Screenshot o...  FAKE  NaN  NaN  \n",
       "7   A Czech stockbroker who saved more than 650 Je...  REAL  NaN  NaN  \n",
       "8   Hillary Clinton and Donald Trump made some ina...  REAL  NaN  NaN  \n",
       "9   Iranian negotiators reportedly have made a las...  REAL  NaN  NaN  \n",
       "10  CEDAR RAPIDS, Iowa — “I had one of the most wo...  REAL  NaN  NaN  \n",
       "11  Donald Trump’s organizational problems have go...  REAL  NaN  NaN  \n",
       "12  Click Here To Learn More About Alexandra's Per...  FAKE  NaN  NaN  \n",
       "13  October 31, 2016 at 4:52 am \\nPretty factual e...  FAKE  NaN  NaN  \n",
       "14  Killing Obama administration rules, dismantlin...  REAL  NaN  NaN  \n",
       "15  As more women move into high offices, they oft...  REAL  NaN  NaN  \n",
       "16  Shocking! Michele Obama & Hillary Caught Glamo...  FAKE  NaN  NaN  \n",
       "17  0 \\nHillary Clinton has barely just lost the p...  FAKE  NaN  NaN  \n",
       "18  Washington (CNN) For months, the White House a...  REAL  NaN  NaN  \n",
       "19  While paging through Pew's best data visualiza...  REAL  NaN  NaN  "
      ]
     },
     "execution_count": 15,
     "metadata": {},
     "output_type": "execute_result"
    }
   ],
   "source": [
    "df_train.head(20)"
   ]
  },
  {
   "cell_type": "code",
   "execution_count": 16,
   "metadata": {
    "scrolled": true
   },
   "outputs": [
    {
     "name": "stdout",
     "output_type": "stream",
     "text": [
      "<class 'pandas.core.frame.DataFrame'>\n",
      "RangeIndex: 3999 entries, 0 to 3998\n",
      "Data columns (total 6 columns):\n",
      "ID       3999 non-null int64\n",
      "title    3999 non-null object\n",
      "text     3999 non-null object\n",
      "label    3999 non-null object\n",
      "X1       33 non-null object\n",
      "X2       2 non-null object\n",
      "dtypes: int64(1), object(5)\n",
      "memory usage: 187.5+ KB\n"
     ]
    }
   ],
   "source": [
    "df_train.info()"
   ]
  },
  {
   "cell_type": "markdown",
   "metadata": {},
   "source": [
    "### 2.1 Examine the X1 and X2 variables"
   ]
  },
  {
   "cell_type": "code",
   "execution_count": 17,
   "metadata": {
    "scrolled": true
   },
   "outputs": [
    {
     "data": {
      "text/plain": [
       "array([nan, 'REAL', 'FAKE',\n",
       "       'PLANNED PARENTHOOD’S LOBBYING GETS AGGRESSIVE.\\xa0Congress may have spent August away from Washington but Planned Parenthood’s campaign to convince lawmakers to protect the group’s funding followed them back to their home states. Power Post has more.\\n\\n“Lawmakers will raise the stakes when Congress returns next week by threatening to defund the group through the federal appropriations process. Planned Parenthood’s counter-offensive is widespread and varied and is unfolding inside and outside the Beltway. The group has been\\xa0organizing rallies, flooding lawmakers’ town hall meetings, commissioning polls, shelling\\xa0out six figures for television\\xa0ads and\\xa0hiring forensics experts to try to discredit undercover video footage that sparked the controversy. The success of these lobbying efforts will be tested when Congress returns and must move a short-term spending bill to keep the government open. Some conservatives in both chambers are pushing to defund Planned Parenthood, even if a standoff with Democrats leads to a government shutdown.”\\n\\nFEDERAL WORKERS EXPECTED TO GET A PAY HIKE IN JANUARY.\\xa0The stalled appropriations process in Congress means uncertainty for federal agencies and their workers but the White House isn’t waiting around for lawmakers to decide the fate of federal worker pay. Federal Eye’s Eric Yoder reports that President Obama sent a letter on Friday detailing plans for a 1.3 percent pay raise for federal workers.\\n\\n“It prevents what would be a much higher raise from being paid under the complex laws governing federal pay raises should no raise number be enacted into law by the end of the year. Congress could yet set a different figure, but the appropriations bills for 2016 so far have been silent on a raise. That continues a pattern that resulted in 1 percent raises being paid by default in January 2014 and 2015.”\\n\\nRATE HIKE AT THE FED STILL LIKELY.\\xa0Speculation has been rampant in recent months over when the Federal Reserve will increase U.S. interest rates and the Wall Street Journal reports that all signs still point to a rate increase this year.\\n\\n“Inside the Fed, advocates for holding off a rate boost beyond this year aren’t getting much traction. In Jackson Hole, Minneapolis Fed President Narayana Kocherlakota was an isolated voice among officials for sustaining near-zero interest rates. He has lost his share of battles over policy, including the decision last October to end the Fed’s bond-buying program.”',\n",
       "       ' Stagnation for the 95%  '], dtype=object)"
      ]
     },
     "execution_count": 17,
     "metadata": {},
     "output_type": "execute_result"
    }
   ],
   "source": [
    "df_train.X1.unique()"
   ]
  },
  {
   "cell_type": "code",
   "execution_count": 18,
   "metadata": {
    "scrolled": true
   },
   "outputs": [
    {
     "data": {
      "text/plain": [
       "array([nan, 'REAL', 'FAKE'], dtype=object)"
      ]
     },
     "execution_count": 18,
     "metadata": {},
     "output_type": "execute_result"
    }
   ],
   "source": [
    "df_train.X2.unique()"
   ]
  },
  {
   "cell_type": "code",
   "execution_count": 19,
   "metadata": {
    "scrolled": true
   },
   "outputs": [
    {
     "data": {
      "text/html": [
       "<div>\n",
       "<style>\n",
       "    .dataframe thead tr:only-child th {\n",
       "        text-align: right;\n",
       "    }\n",
       "\n",
       "    .dataframe thead th {\n",
       "        text-align: left;\n",
       "    }\n",
       "\n",
       "    .dataframe tbody tr th {\n",
       "        vertical-align: top;\n",
       "    }\n",
       "</style>\n",
       "<table border=\"1\" class=\"dataframe\">\n",
       "  <thead>\n",
       "    <tr style=\"text-align: right;\">\n",
       "      <th></th>\n",
       "      <th>ID</th>\n",
       "      <th>title</th>\n",
       "      <th>text</th>\n",
       "      <th>label</th>\n",
       "      <th>X1</th>\n",
       "      <th>X2</th>\n",
       "    </tr>\n",
       "  </thead>\n",
       "  <tbody>\n",
       "    <tr>\n",
       "      <th>192</th>\n",
       "      <td>599</td>\n",
       "      <td>Election Day: No Legal Pot In Ohio</td>\n",
       "      <td>Democrats Lose In The South</td>\n",
       "      <td>Election Day: No Legal Pot In Ohio; Democrats ...</td>\n",
       "      <td>REAL</td>\n",
       "      <td>NaN</td>\n",
       "    </tr>\n",
       "    <tr>\n",
       "      <th>308</th>\n",
       "      <td>10194</td>\n",
       "      <td>Who rode it best? Jesse Jackson mounts up to f...</td>\n",
       "      <td>Leonardo DiCaprio to the rescue?</td>\n",
       "      <td>Who rode it best? Jesse Jackson mounts up to f...</td>\n",
       "      <td>FAKE</td>\n",
       "      <td>NaN</td>\n",
       "    </tr>\n",
       "    <tr>\n",
       "      <th>382</th>\n",
       "      <td>356</td>\n",
       "      <td>Black Hawk crashes off Florida</td>\n",
       "      <td>human remains found</td>\n",
       "      <td>(CNN) Thick fog forced authorities to suspend ...</td>\n",
       "      <td>REAL</td>\n",
       "      <td>NaN</td>\n",
       "    </tr>\n",
       "    <tr>\n",
       "      <th>660</th>\n",
       "      <td>2786</td>\n",
       "      <td>Afghanistan: 19 die in air attacks on hospital</td>\n",
       "      <td>U.S. investigating</td>\n",
       "      <td>(CNN) Aerial bombardments blew apart a Doctors...</td>\n",
       "      <td>REAL</td>\n",
       "      <td>NaN</td>\n",
       "    </tr>\n",
       "    <tr>\n",
       "      <th>889</th>\n",
       "      <td>3622</td>\n",
       "      <td>Al Qaeda rep says group directed Paris magazin...</td>\n",
       "      <td>US issues travel warning</td>\n",
       "      <td>A member of Al Qaeda's branch in Yemen said Fr...</td>\n",
       "      <td>REAL</td>\n",
       "      <td>NaN</td>\n",
       "    </tr>\n",
       "    <tr>\n",
       "      <th>911</th>\n",
       "      <td>7375</td>\n",
       "      <td>Shallow 5.4 magnitude earthquake rattles centr...</td>\n",
       "      <td>shakes buildings in Rome</td>\n",
       "      <td>00 UTC © USGS Map of the earthquake's epicent...</td>\n",
       "      <td>FAKE</td>\n",
       "      <td>NaN</td>\n",
       "    </tr>\n",
       "    <tr>\n",
       "      <th>1010</th>\n",
       "      <td>9097</td>\n",
       "      <td>ICE Agent Commits Suicide in NYC</td>\n",
       "      <td>Leaves Note Revealing Gov’t Plans to Round-up...</td>\n",
       "      <td>Email Print After writing a lengthy suicide no...</td>\n",
       "      <td>FAKE</td>\n",
       "      <td>NaN</td>\n",
       "    </tr>\n",
       "    <tr>\n",
       "      <th>1043</th>\n",
       "      <td>9203</td>\n",
       "      <td>Political Correctness for Yuengling Brewery</td>\n",
       "      <td>What About Our Opioid Epidemic?</td>\n",
       "      <td>We Are Change \\n\\nIn today’s political climate...</td>\n",
       "      <td>FAKE</td>\n",
       "      <td>NaN</td>\n",
       "    </tr>\n",
       "    <tr>\n",
       "      <th>1218</th>\n",
       "      <td>1602</td>\n",
       "      <td>Poll gives Biden edge over Clinton against GOP...</td>\n",
       "      <td>VP meets with Trumka</td>\n",
       "      <td>A new national poll shows Vice President Biden...</td>\n",
       "      <td>REAL</td>\n",
       "      <td>NaN</td>\n",
       "    </tr>\n",
       "    <tr>\n",
       "      <th>1438</th>\n",
       "      <td>4562</td>\n",
       "      <td>Russia begins airstrikes in Syria</td>\n",
       "      <td>U.S. warns of new concerns in conflict</td>\n",
       "      <td>Russian warplanes began airstrikes in Syria on...</td>\n",
       "      <td>REAL</td>\n",
       "      <td>NaN</td>\n",
       "    </tr>\n",
       "    <tr>\n",
       "      <th>1493</th>\n",
       "      <td>4748</td>\n",
       "      <td>Trump &amp;amp</td>\n",
       "      <td>Clinton Were Very Convincing...on How Lousy t...</td>\n",
       "      <td>Let's pretend for a moment that the biggest he...</td>\n",
       "      <td>REAL</td>\n",
       "      <td>NaN</td>\n",
       "    </tr>\n",
       "    <tr>\n",
       "      <th>1591</th>\n",
       "      <td>3508</td>\n",
       "      <td>Belgian police mount raids</td>\n",
       "      <td>prosecutors acknowledge missed opportunities</td>\n",
       "      <td>Belgian authorities missed a chance to press a...</td>\n",
       "      <td>REAL</td>\n",
       "      <td>NaN</td>\n",
       "    </tr>\n",
       "    <tr>\n",
       "      <th>1630</th>\n",
       "      <td>7559</td>\n",
       "      <td>STATE OF GEORGIA FIRES PASTOR BECAUSE OF HIS F...</td>\n",
       "      <td>GOVERNMENT DIDN’T “APPROVE” BIBLICAL SERMONS</td>\n",
       "      <td>Home › SOCIETY | US NEWS › STATE OF GEORGIA FI...</td>\n",
       "      <td>FAKE</td>\n",
       "      <td>NaN</td>\n",
       "    </tr>\n",
       "    <tr>\n",
       "      <th>1716</th>\n",
       "      <td>3634</td>\n",
       "      <td>The Latest On Paris Attack: Manhunt Continues</td>\n",
       "      <td>Brothers Were On No-Fly List</td>\n",
       "      <td>The Latest On Paris Attack: Manhunt Continues;...</td>\n",
       "      <td>REAL</td>\n",
       "      <td>NaN</td>\n",
       "    </tr>\n",
       "    <tr>\n",
       "      <th>1900</th>\n",
       "      <td>8470</td>\n",
       "      <td>The Amish In America Commit Their Vote To Dona...</td>\n",
       "      <td>Mathematically Guaranteeing Him A Presidentia...</td>\n",
       "      <td>18 SHARE The Amish in America have committed t...</td>\n",
       "      <td>FAKE</td>\n",
       "      <td>NaN</td>\n",
       "    </tr>\n",
       "    <tr>\n",
       "      <th>1968</th>\n",
       "      <td>6404</td>\n",
       "      <td>#BREAKING: SECOND Assassination Attempt On Tru...</td>\n",
       "      <td>Suspect Detained (LIVE BLOG)</td>\n",
       "      <td>We Are Change \\nDonald Trump on Saturday was q...</td>\n",
       "      <td>FAKE</td>\n",
       "      <td>NaN</td>\n",
       "    </tr>\n",
       "    <tr>\n",
       "      <th>2176</th>\n",
       "      <td>10499</td>\n",
       "      <td>30th Infantry Division: “Work Horse of the Wes...</td>\n",
       "      <td>The Big Picture TV-211</td>\n",
       "      <td>Published on Oct 27, 2016 by Jeff Quitney The ...</td>\n",
       "      <td>FAKE</td>\n",
       "      <td>NaN</td>\n",
       "    </tr>\n",
       "    <tr>\n",
       "      <th>2184</th>\n",
       "      <td>9</td>\n",
       "      <td>Planned Parenthood’s lobbying effort</td>\n",
       "      <td>pay raises for federal workers</td>\n",
       "      <td>and the future Fed rates</td>\n",
       "      <td>PLANNED PARENTHOOD’S LOBBYING GETS AGGRESSIVE....</td>\n",
       "      <td>REAL</td>\n",
       "    </tr>\n",
       "    <tr>\n",
       "      <th>2493</th>\n",
       "      <td>10492</td>\n",
       "      <td>TOP BRITISH GENERAL WARNS OF NUCLEAR WAR WITH ...</td>\n",
       "      <td>“THE END OF LIFE AS WE KNOW IT”</td>\n",
       "      <td>Paul Joseph Watson Senior British army officer...</td>\n",
       "      <td>FAKE</td>\n",
       "      <td>NaN</td>\n",
       "    </tr>\n",
       "    <tr>\n",
       "      <th>2549</th>\n",
       "      <td>10138</td>\n",
       "      <td>Inside The Mind Of An FBI Informant</td>\n",
       "      <td>Terri Linnell Admits Role As Gov’t Snitch</td>\n",
       "      <td>Inside The Mind Of An FBI Informant; Terri Lin...</td>\n",
       "      <td>FAKE</td>\n",
       "      <td>NaN</td>\n",
       "    </tr>\n",
       "    <tr>\n",
       "      <th>2880</th>\n",
       "      <td>4953</td>\n",
       "      <td>Gary Johnson Avoids Typical Third-Party Fade</td>\n",
       "      <td>Best Polling Since Perot in ‘92</td>\n",
       "      <td>A couple of weeks ago in this space I pushed b...</td>\n",
       "      <td>REAL</td>\n",
       "      <td>NaN</td>\n",
       "    </tr>\n",
       "    <tr>\n",
       "      <th>2920</th>\n",
       "      <td>496</td>\n",
       "      <td>Nearly 300K New Jobs In February</td>\n",
       "      <td>Unemployment Dips To 5.5 Percent</td>\n",
       "      <td>Nearly 300K New Jobs In February; Unemployment...</td>\n",
       "      <td>REAL</td>\n",
       "      <td>NaN</td>\n",
       "    </tr>\n",
       "    <tr>\n",
       "      <th>3010</th>\n",
       "      <td>5741</td>\n",
       "      <td>Why Trump Won</td>\n",
       "      <td>Why Clinton Lost</td>\n",
       "      <td>WashingtonsBlog \\nBy Robert Parry, the inves...</td>\n",
       "      <td>FAKE</td>\n",
       "      <td>NaN</td>\n",
       "    </tr>\n",
       "    <tr>\n",
       "      <th>3069</th>\n",
       "      <td>4131</td>\n",
       "      <td>Jesse Matthew charged in Hannah Graham's murder</td>\n",
       "      <td>DA will not pursue death penalty</td>\n",
       "      <td>Jesse Matthew Jr., a former hospital worker, w...</td>\n",
       "      <td>REAL</td>\n",
       "      <td>NaN</td>\n",
       "    </tr>\n",
       "    <tr>\n",
       "      <th>3110</th>\n",
       "      <td>8748</td>\n",
       "      <td>WATCH: Mass Shooting Occurs During #TrumpRiot</td>\n",
       "      <td>Media Ignores (Video)</td>\n",
       "      <td>WATCH: Mass Shooting Occurs During #TrumpRio...</td>\n",
       "      <td>FAKE</td>\n",
       "      <td>NaN</td>\n",
       "    </tr>\n",
       "    <tr>\n",
       "      <th>3130</th>\n",
       "      <td>6717</td>\n",
       "      <td>Jim Rogers: It’s Time To Prepare</td>\n",
       "      <td>Economic And Financial Collapse Imminent (VIDEO)</td>\n",
       "      <td>By: The Voice of Reason | Regardless of how mu...</td>\n",
       "      <td>FAKE</td>\n",
       "      <td>NaN</td>\n",
       "    </tr>\n",
       "    <tr>\n",
       "      <th>3210</th>\n",
       "      <td>2943</td>\n",
       "      <td>Islamic State admits defeat in Kobani</td>\n",
       "      <td>blames airstrikes</td>\n",
       "      <td>Islamic State militants have acknowledged for ...</td>\n",
       "      <td>REAL</td>\n",
       "      <td>NaN</td>\n",
       "    </tr>\n",
       "    <tr>\n",
       "      <th>3372</th>\n",
       "      <td>5248</td>\n",
       "      <td>Clinton Cries Racism Tagging Trump with KKK</td>\n",
       "      <td>Trump Says 'She Lies'</td>\n",
       "      <td>With only about 70 days left until the electio...</td>\n",
       "      <td>REAL</td>\n",
       "      <td>NaN</td>\n",
       "    </tr>\n",
       "    <tr>\n",
       "      <th>3478</th>\n",
       "      <td>3624</td>\n",
       "      <td>Suspects In Paris Magazine Attack Killed</td>\n",
       "      <td>Market Gunman And 4 Hostages Also Dead</td>\n",
       "      <td>Suspects In Paris Magazine Attack Killed; Mark...</td>\n",
       "      <td>REAL</td>\n",
       "      <td>NaN</td>\n",
       "    </tr>\n",
       "    <tr>\n",
       "      <th>3537</th>\n",
       "      <td>6268</td>\n",
       "      <td>Chart Of The Day: Since 2009—–Recovery For The 5%</td>\n",
       "      <td>Stagnation for the 95%</td>\n",
       "      <td>Chart Of The Day: Since 2009 Recovery For The 5%</td>\n",
       "      <td>Stagnation for the 95%</td>\n",
       "      <td>FAKE</td>\n",
       "    </tr>\n",
       "    <tr>\n",
       "      <th>3578</th>\n",
       "      <td>2738</td>\n",
       "      <td>Ted Cruz launches bid</td>\n",
       "      <td>Some pundits paint him as scary extremist</td>\n",
       "      <td>Before he got to repealing ObamaCare, before h...</td>\n",
       "      <td>REAL</td>\n",
       "      <td>NaN</td>\n",
       "    </tr>\n",
       "    <tr>\n",
       "      <th>3649</th>\n",
       "      <td>4025</td>\n",
       "      <td>State Dept. IDs 2 Americans killed in Nepal quake</td>\n",
       "      <td>2 others reportedly dead</td>\n",
       "      <td>The State Department identified two Americans ...</td>\n",
       "      <td>REAL</td>\n",
       "      <td>NaN</td>\n",
       "    </tr>\n",
       "    <tr>\n",
       "      <th>3706</th>\n",
       "      <td>9954</td>\n",
       "      <td>Incredible smoke haze seen outside NDTV office...</td>\n",
       "      <td>bursting of firecrackers suspected</td>\n",
       "      <td>Incredible smoke haze seen outside NDTV office...</td>\n",
       "      <td>FAKE</td>\n",
       "      <td>NaN</td>\n",
       "    </tr>\n",
       "  </tbody>\n",
       "</table>\n",
       "</div>"
      ],
      "text/plain": [
       "         ID                                              title  \\\n",
       "192     599                 Election Day: No Legal Pot In Ohio   \n",
       "308   10194  Who rode it best? Jesse Jackson mounts up to f...   \n",
       "382     356                     Black Hawk crashes off Florida   \n",
       "660    2786     Afghanistan: 19 die in air attacks on hospital   \n",
       "889    3622  Al Qaeda rep says group directed Paris magazin...   \n",
       "911    7375  Shallow 5.4 magnitude earthquake rattles centr...   \n",
       "1010   9097                   ICE Agent Commits Suicide in NYC   \n",
       "1043   9203        Political Correctness for Yuengling Brewery   \n",
       "1218   1602  Poll gives Biden edge over Clinton against GOP...   \n",
       "1438   4562                  Russia begins airstrikes in Syria   \n",
       "1493   4748                                         Trump &amp   \n",
       "1591   3508                         Belgian police mount raids   \n",
       "1630   7559  STATE OF GEORGIA FIRES PASTOR BECAUSE OF HIS F...   \n",
       "1716   3634      The Latest On Paris Attack: Manhunt Continues   \n",
       "1900   8470  The Amish In America Commit Their Vote To Dona...   \n",
       "1968   6404  #BREAKING: SECOND Assassination Attempt On Tru...   \n",
       "2176  10499  30th Infantry Division: “Work Horse of the Wes...   \n",
       "2184      9               Planned Parenthood’s lobbying effort   \n",
       "2493  10492  TOP BRITISH GENERAL WARNS OF NUCLEAR WAR WITH ...   \n",
       "2549  10138                Inside The Mind Of An FBI Informant   \n",
       "2880   4953       Gary Johnson Avoids Typical Third-Party Fade   \n",
       "2920    496                   Nearly 300K New Jobs In February   \n",
       "3010   5741                                      Why Trump Won   \n",
       "3069   4131    Jesse Matthew charged in Hannah Graham's murder   \n",
       "3110   8748      WATCH: Mass Shooting Occurs During #TrumpRiot   \n",
       "3130   6717                   Jim Rogers: It’s Time To Prepare   \n",
       "3210   2943              Islamic State admits defeat in Kobani   \n",
       "3372   5248        Clinton Cries Racism Tagging Trump with KKK   \n",
       "3478   3624           Suspects In Paris Magazine Attack Killed   \n",
       "3537   6268  Chart Of The Day: Since 2009—–Recovery For The 5%   \n",
       "3578   2738                              Ted Cruz launches bid   \n",
       "3649   4025  State Dept. IDs 2 Americans killed in Nepal quake   \n",
       "3706   9954  Incredible smoke haze seen outside NDTV office...   \n",
       "\n",
       "                                                   text  \\\n",
       "192                         Democrats Lose In The South   \n",
       "308                    Leonardo DiCaprio to the rescue?   \n",
       "382                                 human remains found   \n",
       "660                                  U.S. investigating   \n",
       "889                            US issues travel warning   \n",
       "911                            shakes buildings in Rome   \n",
       "1010   Leaves Note Revealing Gov’t Plans to Round-up...   \n",
       "1043                    What About Our Opioid Epidemic?   \n",
       "1218                               VP meets with Trumka   \n",
       "1438             U.S. warns of new concerns in conflict   \n",
       "1493   Clinton Were Very Convincing...on How Lousy t...   \n",
       "1591       prosecutors acknowledge missed opportunities   \n",
       "1630       GOVERNMENT DIDN’T “APPROVE” BIBLICAL SERMONS   \n",
       "1716                       Brothers Were On No-Fly List   \n",
       "1900   Mathematically Guaranteeing Him A Presidentia...   \n",
       "1968                       Suspect Detained (LIVE BLOG)   \n",
       "2176                             The Big Picture TV-211   \n",
       "2184                     pay raises for federal workers   \n",
       "2493                    “THE END OF LIFE AS WE KNOW IT”   \n",
       "2549          Terri Linnell Admits Role As Gov’t Snitch   \n",
       "2880                    Best Polling Since Perot in ‘92   \n",
       "2920                   Unemployment Dips To 5.5 Percent   \n",
       "3010                                   Why Clinton Lost   \n",
       "3069                   DA will not pursue death penalty   \n",
       "3110                              Media Ignores (Video)   \n",
       "3130   Economic And Financial Collapse Imminent (VIDEO)   \n",
       "3210                                  blames airstrikes   \n",
       "3372                              Trump Says 'She Lies'   \n",
       "3478             Market Gunman And 4 Hostages Also Dead   \n",
       "3537                             Stagnation for the 95%   \n",
       "3578          Some pundits paint him as scary extremist   \n",
       "3649                           2 others reportedly dead   \n",
       "3706                 bursting of firecrackers suspected   \n",
       "\n",
       "                                                  label  \\\n",
       "192   Election Day: No Legal Pot In Ohio; Democrats ...   \n",
       "308   Who rode it best? Jesse Jackson mounts up to f...   \n",
       "382   (CNN) Thick fog forced authorities to suspend ...   \n",
       "660   (CNN) Aerial bombardments blew apart a Doctors...   \n",
       "889   A member of Al Qaeda's branch in Yemen said Fr...   \n",
       "911    00 UTC © USGS Map of the earthquake's epicent...   \n",
       "1010  Email Print After writing a lengthy suicide no...   \n",
       "1043  We Are Change \\n\\nIn today’s political climate...   \n",
       "1218  A new national poll shows Vice President Biden...   \n",
       "1438  Russian warplanes began airstrikes in Syria on...   \n",
       "1493  Let's pretend for a moment that the biggest he...   \n",
       "1591  Belgian authorities missed a chance to press a...   \n",
       "1630  Home › SOCIETY | US NEWS › STATE OF GEORGIA FI...   \n",
       "1716  The Latest On Paris Attack: Manhunt Continues;...   \n",
       "1900  18 SHARE The Amish in America have committed t...   \n",
       "1968  We Are Change \\nDonald Trump on Saturday was q...   \n",
       "2176  Published on Oct 27, 2016 by Jeff Quitney The ...   \n",
       "2184                           and the future Fed rates   \n",
       "2493  Paul Joseph Watson Senior British army officer...   \n",
       "2549  Inside The Mind Of An FBI Informant; Terri Lin...   \n",
       "2880  A couple of weeks ago in this space I pushed b...   \n",
       "2920  Nearly 300K New Jobs In February; Unemployment...   \n",
       "3010    WashingtonsBlog \\nBy Robert Parry, the inves...   \n",
       "3069  Jesse Matthew Jr., a former hospital worker, w...   \n",
       "3110    WATCH: Mass Shooting Occurs During #TrumpRio...   \n",
       "3130  By: The Voice of Reason | Regardless of how mu...   \n",
       "3210  Islamic State militants have acknowledged for ...   \n",
       "3372  With only about 70 days left until the electio...   \n",
       "3478  Suspects In Paris Magazine Attack Killed; Mark...   \n",
       "3537   Chart Of The Day: Since 2009 Recovery For The 5%   \n",
       "3578  Before he got to repealing ObamaCare, before h...   \n",
       "3649  The State Department identified two Americans ...   \n",
       "3706  Incredible smoke haze seen outside NDTV office...   \n",
       "\n",
       "                                                     X1    X2  \n",
       "192                                                REAL   NaN  \n",
       "308                                                FAKE   NaN  \n",
       "382                                                REAL   NaN  \n",
       "660                                                REAL   NaN  \n",
       "889                                                REAL   NaN  \n",
       "911                                                FAKE   NaN  \n",
       "1010                                               FAKE   NaN  \n",
       "1043                                               FAKE   NaN  \n",
       "1218                                               REAL   NaN  \n",
       "1438                                               REAL   NaN  \n",
       "1493                                               REAL   NaN  \n",
       "1591                                               REAL   NaN  \n",
       "1630                                               FAKE   NaN  \n",
       "1716                                               REAL   NaN  \n",
       "1900                                               FAKE   NaN  \n",
       "1968                                               FAKE   NaN  \n",
       "2176                                               FAKE   NaN  \n",
       "2184  PLANNED PARENTHOOD’S LOBBYING GETS AGGRESSIVE....  REAL  \n",
       "2493                                               FAKE   NaN  \n",
       "2549                                               FAKE   NaN  \n",
       "2880                                               REAL   NaN  \n",
       "2920                                               REAL   NaN  \n",
       "3010                                               FAKE   NaN  \n",
       "3069                                               REAL   NaN  \n",
       "3110                                               FAKE   NaN  \n",
       "3130                                               FAKE   NaN  \n",
       "3210                                               REAL   NaN  \n",
       "3372                                               REAL   NaN  \n",
       "3478                                               REAL   NaN  \n",
       "3537                           Stagnation for the 95%    FAKE  \n",
       "3578                                               REAL   NaN  \n",
       "3649                                               REAL   NaN  \n",
       "3706                                               FAKE   NaN  "
      ]
     },
     "execution_count": 19,
     "metadata": {},
     "output_type": "execute_result"
    }
   ],
   "source": [
    "#showing all the instances with X1\n",
    "df_train[df_train.X1.notnull()]"
   ]
  },
  {
   "cell_type": "markdown",
   "metadata": {},
   "source": [
    "### 2.2 Deleting the X1 and X2\n",
    "Since X1 and X2 have 33 occurences in total and there is no clear structure to fit them within existing data we decided to delete them"
   ]
  },
  {
   "cell_type": "code",
   "execution_count": 20,
   "metadata": {
    "collapsed": true
   },
   "outputs": [],
   "source": [
    "# delete X1 and X2 variables\n",
    "df_train = df_train[df_train.X1.isnull()] "
   ]
  },
  {
   "cell_type": "code",
   "execution_count": 21,
   "metadata": {
    "collapsed": true
   },
   "outputs": [],
   "source": [
    "# ALTERNATIVE COLUMN DELETE \n",
    "df_train = df_train.drop(\"X1\",axis=1)\n",
    "df_train = df_train.drop(\"X2\",axis=1)"
   ]
  },
  {
   "cell_type": "code",
   "execution_count": 22,
   "metadata": {
    "scrolled": false
   },
   "outputs": [
    {
     "name": "stdout",
     "output_type": "stream",
     "text": [
      "<class 'pandas.core.frame.DataFrame'>\n",
      "Int64Index: 3966 entries, 0 to 3998\n",
      "Data columns (total 4 columns):\n",
      "ID       3966 non-null int64\n",
      "title    3966 non-null object\n",
      "text     3966 non-null object\n",
      "label    3966 non-null object\n",
      "dtypes: int64(1), object(3)\n",
      "memory usage: 154.9+ KB\n"
     ]
    }
   ],
   "source": [
    "df_train.info()"
   ]
  },
  {
   "cell_type": "markdown",
   "metadata": {},
   "source": [
    "## 3. Prepare Dataset"
   ]
  },
  {
   "cell_type": "markdown",
   "metadata": {},
   "source": [
    "### 3.1 Cross Validation"
   ]
  },
  {
   "cell_type": "code",
   "execution_count": 23,
   "metadata": {},
   "outputs": [
    {
     "name": "stdout",
     "output_type": "stream",
     "text": [
      "(2974,) (2974,)\n",
      "(992,) (992,)\n"
     ]
    }
   ],
   "source": [
    "# create training and testing vars\n",
    "X_train, X_test, y_train, y_test = train_test_split(df_train.text, df_train.label)\n",
    "print (X_train.shape, y_train.shape)\n",
    "print (X_test.shape, y_test.shape)"
   ]
  },
  {
   "cell_type": "markdown",
   "metadata": {},
   "source": [
    "### 3.2 Feature Extraction\n",
    "Bag of Words"
   ]
  },
  {
   "cell_type": "code",
   "execution_count": 24,
   "metadata": {},
   "outputs": [
    {
     "data": {
      "text/plain": [
       "(3966, 55312)"
      ]
     },
     "execution_count": 24,
     "metadata": {},
     "output_type": "execute_result"
    }
   ],
   "source": [
    "# Feature Extraction\n",
    "from sklearn.feature_extraction.text import CountVectorizer\n",
    "\n",
    "tf_weighting = CountVectorizer()\n",
    "X_train_counts = tf_weighting.fit_transform(df_train.text)\n",
    "X_train_counts.shape"
   ]
  },
  {
   "cell_type": "markdown",
   "metadata": {},
   "source": [
    "### 3.2 TF-IDF\n",
    "Assigning weights to words in documents by dividing the count of words by the lenght of the document and reducing the weight of most common words"
   ]
  },
  {
   "cell_type": "code",
   "execution_count": 25,
   "metadata": {},
   "outputs": [
    {
     "data": {
      "text/plain": [
       "(3966, 55312)"
      ]
     },
     "execution_count": 25,
     "metadata": {},
     "output_type": "execute_result"
    }
   ],
   "source": [
    "#TF-IDF\n",
    "from sklearn.feature_extraction.text import TfidfTransformer\n",
    "\n",
    "tfidf_transformer = TfidfTransformer()\n",
    "X_train_tfidf = tfidf_transformer.fit_transform(X_train_counts)\n",
    "X_train_tfidf.shape"
   ]
  },
  {
   "cell_type": "markdown",
   "metadata": {},
   "source": [
    "## 4. SVM "
   ]
  },
  {
   "cell_type": "markdown",
   "metadata": {},
   "source": [
    "#### First attempt - SGDClassifier"
   ]
  },
  {
   "cell_type": "code",
   "execution_count": 26,
   "metadata": {},
   "outputs": [
    {
     "data": {
      "text/plain": [
       "0.9153225806451613"
      ]
     },
     "execution_count": 26,
     "metadata": {},
     "output_type": "execute_result"
    }
   ],
   "source": [
    "from sklearn.linear_model import SGDClassifier\n",
    "text_clf_svm = Pipeline([('vect', CountVectorizer()), ('tfidf', TfidfTransformer()),\n",
    "                         ('clf-svm', SGDClassifier(loss='squared_loss', penalty='l2',alpha=1e-3, n_iter=5, random_state=42))])\n",
    "\n",
    "text_clf_svm = text_clf_svm.fit(X_train, y_train)\n",
    "predicted_svm = text_clf_svm.predict(X_test)\n",
    "np.mean(predicted_svm == y_test)"
   ]
  },
  {
   "cell_type": "markdown",
   "metadata": {},
   "source": [
    "#### SVM including removing the stop words  // Lower the result // "
   ]
  },
  {
   "cell_type": "code",
   "execution_count": 27,
   "metadata": {},
   "outputs": [
    {
     "data": {
      "text/plain": [
       "0.9112903225806451"
      ]
     },
     "execution_count": 27,
     "metadata": {},
     "output_type": "execute_result"
    }
   ],
   "source": [
    "# Training Support Vector Machines - SVM and calculating its performance\n",
    "from sklearn.linear_model import SGDClassifier\n",
    "text_clf_svm = Pipeline([('vect', CountVectorizer(stop_words='english')), \n",
    "                         ('tfidf', TfidfTransformer()),\n",
    "                         ('clf-svm', SGDClassifier(loss='hinge', penalty='l2',alpha=1e-3, n_iter=5, random_state=42))])\n",
    "\n",
    "text_clf_svm = text_clf_svm.fit(X_train, y_train)\n",
    "predicted_svm = text_clf_svm.predict(X_test)\n",
    "np.mean(predicted_svm == y_test)"
   ]
  },
  {
   "cell_type": "markdown",
   "metadata": {},
   "source": [
    "### 4.1  Applying LinearSCV - score improvement "
   ]
  },
  {
   "cell_type": "code",
   "execution_count": 28,
   "metadata": {},
   "outputs": [
    {
     "data": {
      "text/plain": [
       "0.9243951612903226"
      ]
     },
     "execution_count": 28,
     "metadata": {},
     "output_type": "execute_result"
    }
   ],
   "source": [
    "from sklearn.linear_model import SGDClassifier\n",
    "from sklearn.svm import LinearSVC\n",
    "\n",
    "text_clf_svm2 = Pipeline([('vect', CountVectorizer()), ('tfidf', TfidfTransformer()),\n",
    "                         ('clf-svm', LinearSVC())])\n",
    "\n",
    "text_clf_svm2 = text_clf_svm2.fit(X_train, y_train)\n",
    "predicted_svm2 = text_clf_svm2.predict(X_test)\n",
    "np.mean(predicted_svm2 == y_test)"
   ]
  },
  {
   "cell_type": "markdown",
   "metadata": {},
   "source": [
    "### 4.2 Grid Search for SVM"
   ]
  },
  {
   "cell_type": "code",
   "execution_count": null,
   "metadata": {
    "collapsed": true,
    "scrolled": false
   },
   "outputs": [],
   "source": [
    "\n",
    "from sklearn.model_selection import GridSearchCV\n",
    "parameters_svm = {'vect__ngram_range': [(1, 1), (1, 2)], 'tfidf__use_idf': (True, False),'clf-svm__alpha': (1e-2, 1e-3)}\n",
    "\n",
    "gs_clf_svm = GridSearchCV(text_clf_svm, parameters_svm, n_jobs=-1)\n",
    "gs_clf_svm = gs_clf_svm.fit(X_train, y_train)\n",
    "\n",
    "\n",
    "print(gs_clf_svm.best_score_)\n",
    "print(gs_clf_svm.best_params_)"
   ]
  },
  {
   "cell_type": "markdown",
   "metadata": {},
   "source": [
    "# 5. Naive Bayes"
   ]
  },
  {
   "cell_type": "code",
   "execution_count": 19,
   "metadata": {
    "collapsed": true
   },
   "outputs": [],
   "source": [
    "# Training Naive Bayes (NB) classifier on training data.\n",
    "from sklearn.naive_bayes import MultinomialNB\n",
    "clf = MultinomialNB().fit(X_train_tfidf, df_train.label)"
   ]
  },
  {
   "cell_type": "code",
   "execution_count": 20,
   "metadata": {
    "collapsed": true
   },
   "outputs": [],
   "source": [
    "# Pipeline - standard\n",
    "from sklearn.pipeline import Pipeline\n",
    "\n",
    "text_clf = Pipeline([('vect', CountVectorizer()), ('tfidf', TfidfTransformer()), ('clf', MultinomialNB())])\n",
    "\n",
    "text_clf = text_clf.fit(X_train, y_train)"
   ]
  },
  {
   "cell_type": "code",
   "execution_count": 21,
   "metadata": {},
   "outputs": [
    {
     "data": {
      "text/plain": [
       "0.7368951612903226"
      ]
     },
     "execution_count": 21,
     "metadata": {},
     "output_type": "execute_result"
    }
   ],
   "source": [
    "# Performance - standard\n",
    "predicted = text_clf.predict(X_test)\n",
    "np.mean(predicted == y_test)"
   ]
  },
  {
   "cell_type": "code",
   "execution_count": 22,
   "metadata": {
    "collapsed": true
   },
   "outputs": [],
   "source": [
    "# Pipeline with adjusting MultinomialNB\n",
    "\n",
    "text_clf2 = Pipeline([('vect', CountVectorizer()), ('tfidf', TfidfTransformer()), ('clf', MultinomialNB(fit_prior=False))])\n",
    "\n",
    "text_clf2 = text_clf2.fit(X_train, y_train)"
   ]
  },
  {
   "cell_type": "code",
   "execution_count": 23,
   "metadata": {},
   "outputs": [
    {
     "data": {
      "text/plain": [
       "0.7520161290322581"
      ]
     },
     "execution_count": 23,
     "metadata": {},
     "output_type": "execute_result"
    }
   ],
   "source": [
    "# Performance with adjusting MultinomialNB\n",
    "predicted = text_clf2.predict(X_test)\n",
    "np.mean(predicted == y_test)"
   ]
  },
  {
   "cell_type": "markdown",
   "metadata": {},
   "source": [
    "### 4.1 Grid Search for Naive Bayes\n",
    "I tried to optimize the parameters for Grid Search (estimator and scoring) : \n",
    "http://scikit-learn.org/stable/modules/grid_search.html#grid-search"
   ]
  },
  {
   "cell_type": "code",
   "execution_count": 24,
   "metadata": {},
   "outputs": [
    {
     "name": "stdout",
     "output_type": "stream",
     "text": [
      "0.8971082716879624\n",
      "{'clf__alpha': 0.001, 'tfidf__use_idf': False, 'vect__ngram_range': (1, 1)}\n"
     ]
    }
   ],
   "source": [
    "# Original Search\n",
    "from sklearn.model_selection import GridSearchCV\n",
    "parameters = {'vect__ngram_range': [(1, 1), (1, 2)], 'tfidf__use_idf': (True, False), 'clf__alpha': (1e-2, 1e-3)}\n",
    "\n",
    "gs_clf = GridSearchCV(text_clf, parameters, n_jobs=-1)\n",
    "gs_clf = gs_clf.fit(X_train, y_train)\n",
    "\n",
    "print(gs_clf.best_score_)\n",
    "print(gs_clf.best_params_)"
   ]
  },
  {
   "cell_type": "code",
   "execution_count": 25,
   "metadata": {},
   "outputs": [
    {
     "name": "stdout",
     "output_type": "stream",
     "text": [
      "0.8971082716879624\n",
      "{'clf__alpha': 0.001, 'tfidf__use_idf': False, 'vect__ngram_range': (1, 1)}\n"
     ]
    }
   ],
   "source": [
    "# Search 2 - Changing parameters based on the previous results. Slight Improvement\n",
    "from sklearn.model_selection import GridSearchCV\n",
    "parameters = {'vect__ngram_range': [(1, 1), (1, 5)], 'tfidf__use_idf': (True, False), 'clf__alpha': (0.0001, 0.001, 0.01)}\n",
    "\n",
    "gs_clf = GridSearchCV(text_clf, parameters, n_jobs=-1)\n",
    "gs_clf = gs_clf.fit(X_train, y_train)\n",
    "\n",
    "print(gs_clf.best_score_)\n",
    "print(gs_clf.best_params_)"
   ]
  },
  {
   "cell_type": "code",
   "execution_count": 26,
   "metadata": {},
   "outputs": [
    {
     "name": "stdout",
     "output_type": "stream",
     "text": [
      "0.8967720242098184\n",
      "{'clf__alpha': 0.001, 'tfidf__use_idf': True, 'vect__ngram_range': (1, 6)}\n"
     ]
    }
   ],
   "source": [
    "# Search 3\n",
    "from sklearn.model_selection import GridSearchCV\n",
    "parameters = {'vect__ngram_range': [(1, 4), (1, 5), (1, 6)], 'tfidf__use_idf': (True, False), 'clf__alpha': (0.001, 0.005, 0.01)}\n",
    "\n",
    "gs_clf = GridSearchCV(text_clf, parameters, n_jobs=-1)\n",
    "gs_clf = gs_clf.fit(X_train, y_train)\n",
    "\n",
    "print(gs_clf.best_score_)\n",
    "print(gs_clf.best_params_)"
   ]
  },
  {
   "cell_type": "markdown",
   "metadata": {},
   "source": [
    "### 4.2 Stemming for Naive Bayes"
   ]
  },
  {
   "cell_type": "code",
   "execution_count": 27,
   "metadata": {},
   "outputs": [
    {
     "data": {
      "text/plain": [
       "0.8064516129032258"
      ]
     },
     "execution_count": 27,
     "metadata": {},
     "output_type": "execute_result"
    }
   ],
   "source": [
    "from nltk.stem.snowball import SnowballStemmer\n",
    "stemmer = SnowballStemmer(\"english\", ignore_stopwords=True)\n",
    "\n",
    "class StemmedCountVectorizer(CountVectorizer):\n",
    "    def build_analyzer(self):\n",
    "        analyzer = super(StemmedCountVectorizer, self).build_analyzer()\n",
    "        return lambda doc: ([stemmer.stem(w) for w in analyzer(doc)])\n",
    "    \n",
    "stemmed_count_vect = StemmedCountVectorizer(stop_words='english')\n",
    "\n",
    "text_mnb_stemmed = Pipeline([('vect', stemmed_count_vect), \n",
    "                             ('tfidf', TfidfTransformer()), \n",
    "                             ('mnb', MultinomialNB(fit_prior=False))])\n",
    "\n",
    "text_mnb_stemmed = text_mnb_stemmed.fit(X_train, y_train)\n",
    "\n",
    "predicted_mnb_stemmed = text_mnb_stemmed.predict(X_test)\n",
    "\n",
    "np.mean(predicted_mnb_stemmed == y_test)"
   ]
  },
  {
   "cell_type": "markdown",
   "metadata": {},
   "source": [
    "# 6. Logistic Regression"
   ]
  },
  {
   "cell_type": "markdown",
   "metadata": {},
   "source": [
    "#### 6.1 Repeating the dataset preparation for Logistic Regression\n",
    "We found out that the transformation process for logistic regression is different than for the other two models. Applying same feature extraction is causing a crash for one of the parts and for now the only way around it we found is repeating and adjusting the process."
   ]
  },
  {
   "cell_type": "code",
   "execution_count": 28,
   "metadata": {},
   "outputs": [
    {
     "name": "stdout",
     "output_type": "stream",
     "text": [
      "(2974,) (2974,)\n",
      "(992,) (992,)\n"
     ]
    }
   ],
   "source": [
    "# Cross Validation\n",
    "X_train, X_test, y_train, y_test = train_test_split(df_train.text, df_train.label)\n",
    "print (X_train.shape, y_train.shape)\n",
    "print (X_test.shape, y_test.shape)\n",
    "\n",
    "# Feature Extraction - Logistic Regression\n",
    "from sklearn.feature_extraction.text import CountVectorizer\n",
    "tf_weighting = CountVectorizer()\n",
    "X_train_counts = tf_weighting.fit_transform(X_train)\n",
    "X_test_counts = tf_weighting.transform(X_test)\n",
    "\n",
    "#TF-IDF - Logistic Regression\n",
    "from sklearn.feature_extraction.text import TfidfTransformer\n",
    "tfidf_transformer = TfidfTransformer()\n",
    "X_train_tfidf = tfidf_transformer.fit_transform(X_train_counts)\n",
    "X_train_tfidf.shape\n",
    "\n",
    "X_test_tfidf = tfidf_transformer.transform(X_test_counts)"
   ]
  },
  {
   "cell_type": "markdown",
   "metadata": {},
   "source": [
    "### 6.2 Logistic Regression Model"
   ]
  },
  {
   "cell_type": "code",
   "execution_count": 29,
   "metadata": {
    "collapsed": true
   },
   "outputs": [],
   "source": [
    "lr_count_clf = LogisticRegression()"
   ]
  },
  {
   "cell_type": "code",
   "execution_count": 30,
   "metadata": {},
   "outputs": [
    {
     "name": "stdout",
     "output_type": "stream",
     "text": [
      "logistic regression accuracy: 0.923\n",
      "logistic regression cross-validation accuracy: 0.899\n"
     ]
    }
   ],
   "source": [
    "lr_count_clf.fit(X_train_counts, y_train)\n",
    "prediction = lr_count_clf.predict(X_test_counts)\n",
    "result0 = metrics.accuracy_score(y_test, prediction)\n",
    "print(\"logistic regression accuracy: %0.3f\" % result0)\n",
    "\n",
    "result1 = cross_val_score(lr_count_clf, X_train_counts, y_train, scoring=\"accuracy\", cv=5).mean()\n",
    "print(\"logistic regression cross-validation accuracy: %0.3f\" % result1)"
   ]
  },
  {
   "cell_type": "code",
   "execution_count": 31,
   "metadata": {},
   "outputs": [
    {
     "data": {
      "text/plain": [
       "(3966, 55312)"
      ]
     },
     "execution_count": 31,
     "metadata": {},
     "output_type": "execute_result"
    }
   ],
   "source": [
    "X_train, X_test, y_train, y_test = train_test_split(df_train.text, df_train.label)\n",
    "\n",
    "tf_weighting = CountVectorizer()\n",
    "X_train_counts = tf_weighting.fit_transform(df_train.text)\n",
    "X_train_counts.shape\n",
    "\n",
    "tfidf_transformer = TfidfTransformer()\n",
    "X_train_tfidf = tfidf_transformer.fit_transform(X_train_counts)\n",
    "X_train_tfidf.shape"
   ]
  },
  {
   "cell_type": "code",
   "execution_count": 32,
   "metadata": {},
   "outputs": [
    {
     "data": {
      "text/plain": [
       "0.8931451612903226"
      ]
     },
     "execution_count": 32,
     "metadata": {},
     "output_type": "execute_result"
    }
   ],
   "source": [
    "from sklearn.pipeline import Pipeline\n",
    "\n",
    "text_clf_logreg = Pipeline([('vect', CountVectorizer()), ('tfidf', TfidfTransformer()), ('clf2', LogisticRegression())])\n",
    "\n",
    "text_clf_logreg = text_clf_logreg.fit(X_train, y_train)\n",
    "\n",
    "\n",
    "# Performance - standard\n",
    "predicted = text_clf_logreg.predict(X_test)\n",
    "np.mean(predicted == y_test)"
   ]
  },
  {
   "cell_type": "markdown",
   "metadata": {},
   "source": [
    "## 7. PassiveAgressive Classifier\n",
    "https://github.com/docketrun/Detecting-Fake-News-with-Scikit-Learn/blob/master/Attempting%20to%20detect%20fake%20news.ipynb"
   ]
  },
  {
   "cell_type": "code",
   "execution_count": 33,
   "metadata": {
    "collapsed": true
   },
   "outputs": [],
   "source": [
    "# Preparation\n",
    "count_vectorizer = CountVectorizer(stop_words='english')\n",
    "count_train = count_vectorizer.fit_transform(X_train)\n",
    "count_test = count_vectorizer.transform(X_test)\n",
    "\n",
    "tfidf_vectorizer = TfidfVectorizer(stop_words='english', max_df=0.7)\n",
    "tfidf_train = tfidf_vectorizer.fit_transform(X_train)\n",
    "tfidf_test = tfidf_vectorizer.transform(X_test)"
   ]
  },
  {
   "cell_type": "code",
   "execution_count": 34,
   "metadata": {
    "collapsed": true
   },
   "outputs": [],
   "source": [
    "# Importing and adjusting the PAC\n",
    "from sklearn.linear_model import PassiveAggressiveClassifier\n",
    "linear_clf = PassiveAggressiveClassifier(n_iter=100, fit_intercept=False, warm_start=True)"
   ]
  },
  {
   "cell_type": "code",
   "execution_count": 35,
   "metadata": {},
   "outputs": [
    {
     "name": "stdout",
     "output_type": "stream",
     "text": [
      "accuracy:   0.917\n"
     ]
    }
   ],
   "source": [
    "linear_clf.fit(tfidf_train, y_train) #\n",
    "pred = linear_clf.predict(tfidf_test)\n",
    "score = metrics.accuracy_score(y_test, pred)\n",
    "print(\"accuracy:   %0.3f\" % score)\n",
    "cm = metrics.confusion_matrix(y_test, pred, labels=['FAKE', 'REAL'])"
   ]
  },
  {
   "cell_type": "markdown",
   "metadata": {},
   "source": [
    "## 8. SUMMARY"
   ]
  },
  {
   "cell_type": "markdown",
   "metadata": {},
   "source": [
    "#### We have tried several models - found at different sources. For our specific approach the SVM with LinearSVC gave the best score around 0.924"
   ]
  },
  {
   "cell_type": "markdown",
   "metadata": {},
   "source": [
    "#### Resources:\n",
    "https://towardsdatascience.com/machine-learning-nlp-text-classification-using-scikit-learn-python-and-nltk-c52b92a7c73a\n",
    "https://github.com/docketrun/Detecting-Fake-News-with-Scikit-Learn/blob/master/Attempting%20to%20detect%20fake%20news.ipynb\n",
    "https://bbengfort.github.io/tutorials/2016/05/19/text-classification-nltk-sckit-learn.html\n",
    "http://scikit-learn.org/stable/auto_examples/model_selection/plot_multi_metric_evaluation.html#sphx-glr-auto-examples-model-selection-plot-multi-metric-evaluation-py\n"
   ]
  }
 ],
 "metadata": {
  "kernelspec": {
   "display_name": "Python 3",
   "language": "python",
   "name": "python3"
  },
  "language_info": {
   "codemirror_mode": {
    "name": "ipython",
    "version": 3
   },
   "file_extension": ".py",
   "mimetype": "text/x-python",
   "name": "python",
   "nbconvert_exporter": "python",
   "pygments_lexer": "ipython3",
   "version": "3.6.3"
  }
 },
 "nbformat": 4,
 "nbformat_minor": 2
}
